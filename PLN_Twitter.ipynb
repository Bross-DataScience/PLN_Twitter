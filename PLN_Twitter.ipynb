{
  "nbformat": 4,
  "nbformat_minor": 0,
  "metadata": {
    "colab": {
      "name": "PLN_Twitter.ipynb",
      "provenance": [],
      "mount_file_id": "13Dg9ssh4giFsUsunpNhDkEd7jj6cT-dy",
      "authorship_tag": "ABX9TyNadZxFqzf8TnQ0qUbtDKKE",
      "include_colab_link": true
    },
    "kernelspec": {
      "name": "python3",
      "display_name": "Python 3"
    },
    "language_info": {
      "name": "python"
    }
  },
  "cells": [
    {
      "cell_type": "markdown",
      "metadata": {
        "id": "view-in-github",
        "colab_type": "text"
      },
      "source": [
        "<a href=\"https://colab.research.google.com/github/Bross-DataScience/PLN_Twitter/blob/main/PLN_Twitter.ipynb\" target=\"_parent\"><img src=\"https://colab.research.google.com/assets/colab-badge.svg\" alt=\"Open In Colab\"/></a>"
      ]
    },
    {
      "cell_type": "markdown",
      "metadata": {
        "id": "lBxIajS5mfCk"
      },
      "source": [
        "#### Verificar se Twitter é Racista/Sexista"
      ]
    },
    {
      "cell_type": "code",
      "metadata": {
        "id": "pJRoe8lNj5np"
      },
      "source": [
        "import pandas as pd\n",
        "import seaborn as sns\n",
        "import matplotlib.pyplot as plt\n",
        "%matplotlib inline\n",
        "\n",
        "import nltk\n",
        "from nltk.corpus import stopwords\n",
        "from nltk.stem.wordnet import WordNetLemmatizer\n",
        "\n",
        "import re\n",
        "\n",
        "from sklearn.feature_extraction.text import CountVectorizer, TfidfTransformer\n",
        "from sklearn.linear_model import SGDClassifier\n",
        "from sklearn.model_selection import train_test_split\n",
        "from sklearn.pipeline import Pipeline\n",
        "from sklearn.metrics import confusion_matrix\n",
        "\n",
        "nltk.download()"
      ],
      "execution_count": null,
      "outputs": []
    },
    {
      "cell_type": "markdown",
      "metadata": {
        "id": "uZwaI_jQkW4w"
      },
      "source": [
        "#### Ler Dados"
      ]
    },
    {
      "cell_type": "code",
      "metadata": {
        "id": "4HdurHzVleE9"
      },
      "source": [
        "train = pd.read_csv('/content/drive/MyDrive/Datasets/Twitter/train.csv')\n",
        "test = pd.read_csv('/content/drive/MyDrive/Datasets/Twitter/test.csv')"
      ],
      "execution_count": 133,
      "outputs": []
    },
    {
      "cell_type": "code",
      "metadata": {
        "id": "YBvo6_O3mRQw",
        "colab": {
          "base_uri": "https://localhost:8080/"
        },
        "outputId": "2e2071f2-5b2a-452a-e4dd-8afca602ee2a"
      },
      "source": [
        "train.shape, test.shape"
      ],
      "execution_count": 134,
      "outputs": [
        {
          "output_type": "execute_result",
          "data": {
            "text/plain": [
              "((31962, 3), (17197, 2))"
            ]
          },
          "metadata": {},
          "execution_count": 134
        }
      ]
    },
    {
      "cell_type": "code",
      "metadata": {
        "id": "-cZOLJQzmUd0",
        "colab": {
          "base_uri": "https://localhost:8080/",
          "height": 204
        },
        "outputId": "b2a98cab-3cb4-4121-bc5a-46d2ffebbb19"
      },
      "source": [
        "train.head()"
      ],
      "execution_count": 135,
      "outputs": [
        {
          "output_type": "execute_result",
          "data": {
            "text/html": [
              "<div>\n",
              "<style scoped>\n",
              "    .dataframe tbody tr th:only-of-type {\n",
              "        vertical-align: middle;\n",
              "    }\n",
              "\n",
              "    .dataframe tbody tr th {\n",
              "        vertical-align: top;\n",
              "    }\n",
              "\n",
              "    .dataframe thead th {\n",
              "        text-align: right;\n",
              "    }\n",
              "</style>\n",
              "<table border=\"1\" class=\"dataframe\">\n",
              "  <thead>\n",
              "    <tr style=\"text-align: right;\">\n",
              "      <th></th>\n",
              "      <th>id</th>\n",
              "      <th>label</th>\n",
              "      <th>tweet</th>\n",
              "    </tr>\n",
              "  </thead>\n",
              "  <tbody>\n",
              "    <tr>\n",
              "      <th>0</th>\n",
              "      <td>1</td>\n",
              "      <td>0</td>\n",
              "      <td>@user when a father is dysfunctional and is s...</td>\n",
              "    </tr>\n",
              "    <tr>\n",
              "      <th>1</th>\n",
              "      <td>2</td>\n",
              "      <td>0</td>\n",
              "      <td>@user @user thanks for #lyft credit i can't us...</td>\n",
              "    </tr>\n",
              "    <tr>\n",
              "      <th>2</th>\n",
              "      <td>3</td>\n",
              "      <td>0</td>\n",
              "      <td>bihday your majesty</td>\n",
              "    </tr>\n",
              "    <tr>\n",
              "      <th>3</th>\n",
              "      <td>4</td>\n",
              "      <td>0</td>\n",
              "      <td>#model   i love u take with u all the time in ...</td>\n",
              "    </tr>\n",
              "    <tr>\n",
              "      <th>4</th>\n",
              "      <td>5</td>\n",
              "      <td>0</td>\n",
              "      <td>factsguide: society now    #motivation</td>\n",
              "    </tr>\n",
              "  </tbody>\n",
              "</table>\n",
              "</div>"
            ],
            "text/plain": [
              "   id  label                                              tweet\n",
              "0   1      0   @user when a father is dysfunctional and is s...\n",
              "1   2      0  @user @user thanks for #lyft credit i can't us...\n",
              "2   3      0                                bihday your majesty\n",
              "3   4      0  #model   i love u take with u all the time in ...\n",
              "4   5      0             factsguide: society now    #motivation"
            ]
          },
          "metadata": {},
          "execution_count": 135
        }
      ]
    },
    {
      "cell_type": "code",
      "metadata": {
        "id": "RjIepkyfmZt0",
        "colab": {
          "base_uri": "https://localhost:8080/",
          "height": 204
        },
        "outputId": "7c653e7f-b67a-487f-ba24-d190b1cf4c04"
      },
      "source": [
        "test.head()"
      ],
      "execution_count": 136,
      "outputs": [
        {
          "output_type": "execute_result",
          "data": {
            "text/html": [
              "<div>\n",
              "<style scoped>\n",
              "    .dataframe tbody tr th:only-of-type {\n",
              "        vertical-align: middle;\n",
              "    }\n",
              "\n",
              "    .dataframe tbody tr th {\n",
              "        vertical-align: top;\n",
              "    }\n",
              "\n",
              "    .dataframe thead th {\n",
              "        text-align: right;\n",
              "    }\n",
              "</style>\n",
              "<table border=\"1\" class=\"dataframe\">\n",
              "  <thead>\n",
              "    <tr style=\"text-align: right;\">\n",
              "      <th></th>\n",
              "      <th>id</th>\n",
              "      <th>tweet</th>\n",
              "    </tr>\n",
              "  </thead>\n",
              "  <tbody>\n",
              "    <tr>\n",
              "      <th>0</th>\n",
              "      <td>31963</td>\n",
              "      <td>#studiolife #aislife #requires #passion #dedic...</td>\n",
              "    </tr>\n",
              "    <tr>\n",
              "      <th>1</th>\n",
              "      <td>31964</td>\n",
              "      <td>@user #white #supremacists want everyone to s...</td>\n",
              "    </tr>\n",
              "    <tr>\n",
              "      <th>2</th>\n",
              "      <td>31965</td>\n",
              "      <td>safe ways to heal your #acne!!    #altwaystohe...</td>\n",
              "    </tr>\n",
              "    <tr>\n",
              "      <th>3</th>\n",
              "      <td>31966</td>\n",
              "      <td>is the hp and the cursed child book up for res...</td>\n",
              "    </tr>\n",
              "    <tr>\n",
              "      <th>4</th>\n",
              "      <td>31967</td>\n",
              "      <td>3rd #bihday to my amazing, hilarious #nephew...</td>\n",
              "    </tr>\n",
              "  </tbody>\n",
              "</table>\n",
              "</div>"
            ],
            "text/plain": [
              "      id                                              tweet\n",
              "0  31963  #studiolife #aislife #requires #passion #dedic...\n",
              "1  31964   @user #white #supremacists want everyone to s...\n",
              "2  31965  safe ways to heal your #acne!!    #altwaystohe...\n",
              "3  31966  is the hp and the cursed child book up for res...\n",
              "4  31967    3rd #bihday to my amazing, hilarious #nephew..."
            ]
          },
          "metadata": {},
          "execution_count": 136
        }
      ]
    },
    {
      "cell_type": "markdown",
      "metadata": {
        "id": "bFkrfRv0m1sV"
      },
      "source": [
        "#### Pré-Processamento dos Dados\n",
        "#### Remover Pontuações e Catacteres Especiais"
      ]
    },
    {
      "cell_type": "code",
      "metadata": {
        "id": "BmMs0M6BnHkz"
      },
      "source": [
        "train['tweet'] = train['tweet'].str.lower()"
      ],
      "execution_count": 137,
      "outputs": []
    },
    {
      "cell_type": "code",
      "metadata": {
        "id": "UEndLOrinZQ0"
      },
      "source": [
        "train['tweet'] = train['tweet'].apply(lambda x: re.sub(r\"(@[A-Za-z0-9]+)|([^0-9A-Za-z \\t])|(\\w+:\\/\\/\\S+)|^rt|http.+?\", \"\",x))"
      ],
      "execution_count": 138,
      "outputs": []
    },
    {
      "cell_type": "code",
      "metadata": {
        "id": "Z84yL_E-oRIV",
        "colab": {
          "base_uri": "https://localhost:8080/"
        },
        "outputId": "f743bce9-678e-46c4-96bc-9420b97dc035"
      },
      "source": [
        "train['tweet'].head()"
      ],
      "execution_count": 139,
      "outputs": [
        {
          "output_type": "execute_result",
          "data": {
            "text/plain": [
              "0      when a father is dysfunctional and is so sel...\n",
              "1      thanks for lyft credit i cant use cause they...\n",
              "2                                  bihday your majesty\n",
              "3    model   i love u take with u all the time in u...\n",
              "4                 factsguide society now    motivation\n",
              "Name: tweet, dtype: object"
            ]
          },
          "metadata": {},
          "execution_count": 139
        }
      ]
    },
    {
      "cell_type": "code",
      "metadata": {
        "id": "KL3NNxWmocyU"
      },
      "source": [
        "def clear_text(data, col):\n",
        "  \"\"\"\n",
        "  Tira pontuações e caracteres especiais, recebendo um dataframe (data) e uma coluna (col)\n",
        "  \"\"\"\n",
        "  data[col] = data[col].str.lower()\n",
        "  data[col] = data[col].apply(lambda x: re.sub(r\"(@[A-Za-z0-9]+)|([^0-9A-Za-z \\t])|(\\w+:\\/\\/\\S+)|^rt|http.+?\", \"\",x))"
      ],
      "execution_count": 140,
      "outputs": []
    },
    {
      "cell_type": "code",
      "metadata": {
        "id": "gzKe0Dv0pcrm"
      },
      "source": [
        "clear_text(train, 'tweet')"
      ],
      "execution_count": 141,
      "outputs": []
    },
    {
      "cell_type": "code",
      "metadata": {
        "id": "30puZpR8ptck"
      },
      "source": [
        "clear_text(test, 'tweet')"
      ],
      "execution_count": 142,
      "outputs": []
    },
    {
      "cell_type": "code",
      "metadata": {
        "id": "3nJyk9-5pwXV",
        "colab": {
          "base_uri": "https://localhost:8080/",
          "height": 204
        },
        "outputId": "5651981b-5c1b-49e8-f32a-f8012eee1cac"
      },
      "source": [
        "test.head()"
      ],
      "execution_count": 143,
      "outputs": [
        {
          "output_type": "execute_result",
          "data": {
            "text/html": [
              "<div>\n",
              "<style scoped>\n",
              "    .dataframe tbody tr th:only-of-type {\n",
              "        vertical-align: middle;\n",
              "    }\n",
              "\n",
              "    .dataframe tbody tr th {\n",
              "        vertical-align: top;\n",
              "    }\n",
              "\n",
              "    .dataframe thead th {\n",
              "        text-align: right;\n",
              "    }\n",
              "</style>\n",
              "<table border=\"1\" class=\"dataframe\">\n",
              "  <thead>\n",
              "    <tr style=\"text-align: right;\">\n",
              "      <th></th>\n",
              "      <th>id</th>\n",
              "      <th>tweet</th>\n",
              "    </tr>\n",
              "  </thead>\n",
              "  <tbody>\n",
              "    <tr>\n",
              "      <th>0</th>\n",
              "      <td>31963</td>\n",
              "      <td>studiolife aislife requires passion dedication...</td>\n",
              "    </tr>\n",
              "    <tr>\n",
              "      <th>1</th>\n",
              "      <td>31964</td>\n",
              "      <td>white supremacists want everyone to see the ...</td>\n",
              "    </tr>\n",
              "    <tr>\n",
              "      <th>2</th>\n",
              "      <td>31965</td>\n",
              "      <td>safe ways to heal your acne    altwaystoheal h...</td>\n",
              "    </tr>\n",
              "    <tr>\n",
              "      <th>3</th>\n",
              "      <td>31966</td>\n",
              "      <td>is the hp and the cursed child book up for res...</td>\n",
              "    </tr>\n",
              "    <tr>\n",
              "      <th>4</th>\n",
              "      <td>31967</td>\n",
              "      <td>3rd bihday to my amazing hilarious nephew el...</td>\n",
              "    </tr>\n",
              "  </tbody>\n",
              "</table>\n",
              "</div>"
            ],
            "text/plain": [
              "      id                                              tweet\n",
              "0  31963  studiolife aislife requires passion dedication...\n",
              "1  31964    white supremacists want everyone to see the ...\n",
              "2  31965  safe ways to heal your acne    altwaystoheal h...\n",
              "3  31966  is the hp and the cursed child book up for res...\n",
              "4  31967    3rd bihday to my amazing hilarious nephew el..."
            ]
          },
          "metadata": {},
          "execution_count": 143
        }
      ]
    },
    {
      "cell_type": "markdown",
      "metadata": {
        "id": "E46mxaY9py70"
      },
      "source": [
        "#### Remover Palavras Comuns"
      ]
    },
    {
      "cell_type": "code",
      "metadata": {
        "id": "oMOh7-46p64z"
      },
      "source": [
        "## common_words = stopwords.words('english')"
      ],
      "execution_count": 14,
      "outputs": []
    },
    {
      "cell_type": "code",
      "metadata": {
        "id": "fiS5JMqbqmvE"
      },
      "source": [
        "## len(common_words)"
      ],
      "execution_count": 20,
      "outputs": []
    },
    {
      "cell_type": "code",
      "metadata": {
        "id": "2PoS16vksORE"
      },
      "source": [
        "## [word for word in train['tweet'].str.split()[0] if word not in common_words]"
      ],
      "execution_count": 21,
      "outputs": []
    },
    {
      "cell_type": "code",
      "metadata": {
        "id": "6Uz9bENktaeF"
      },
      "source": [
        "def remove_common_words(data, col):\n",
        "  common_words = stopwords.words('english')\n",
        "  list_of_list_words = data['tweet'].str.split()\n",
        "  for idx, _ in data.iterrows():\n",
        "    data[col].at[idx] = [word for word in list_of_list_words[idx] if word not in common_words]"
      ],
      "execution_count": 144,
      "outputs": []
    },
    {
      "cell_type": "code",
      "metadata": {
        "id": "cqI5EHMlxm6n"
      },
      "source": [
        "remove_common_words(train, 'tweet')"
      ],
      "execution_count": 145,
      "outputs": []
    },
    {
      "cell_type": "code",
      "metadata": {
        "colab": {
          "base_uri": "https://localhost:8080/",
          "height": 204
        },
        "id": "kdr2Shqr0vnJ",
        "outputId": "4e94bdb5-f4fb-460f-c611-28eadc4b6cd8"
      },
      "source": [
        "train.head()"
      ],
      "execution_count": 146,
      "outputs": [
        {
          "output_type": "execute_result",
          "data": {
            "text/html": [
              "<div>\n",
              "<style scoped>\n",
              "    .dataframe tbody tr th:only-of-type {\n",
              "        vertical-align: middle;\n",
              "    }\n",
              "\n",
              "    .dataframe tbody tr th {\n",
              "        vertical-align: top;\n",
              "    }\n",
              "\n",
              "    .dataframe thead th {\n",
              "        text-align: right;\n",
              "    }\n",
              "</style>\n",
              "<table border=\"1\" class=\"dataframe\">\n",
              "  <thead>\n",
              "    <tr style=\"text-align: right;\">\n",
              "      <th></th>\n",
              "      <th>id</th>\n",
              "      <th>label</th>\n",
              "      <th>tweet</th>\n",
              "    </tr>\n",
              "  </thead>\n",
              "  <tbody>\n",
              "    <tr>\n",
              "      <th>0</th>\n",
              "      <td>1</td>\n",
              "      <td>0</td>\n",
              "      <td>[father, dysfunctional, selfish, drags, kids, ...</td>\n",
              "    </tr>\n",
              "    <tr>\n",
              "      <th>1</th>\n",
              "      <td>2</td>\n",
              "      <td>0</td>\n",
              "      <td>[thanks, lyft, credit, cant, use, cause, dont,...</td>\n",
              "    </tr>\n",
              "    <tr>\n",
              "      <th>2</th>\n",
              "      <td>3</td>\n",
              "      <td>0</td>\n",
              "      <td>[bihday, majesty]</td>\n",
              "    </tr>\n",
              "    <tr>\n",
              "      <th>3</th>\n",
              "      <td>4</td>\n",
              "      <td>0</td>\n",
              "      <td>[model, love, u, take, u, time, ur]</td>\n",
              "    </tr>\n",
              "    <tr>\n",
              "      <th>4</th>\n",
              "      <td>5</td>\n",
              "      <td>0</td>\n",
              "      <td>[factsguide, society, motivation]</td>\n",
              "    </tr>\n",
              "  </tbody>\n",
              "</table>\n",
              "</div>"
            ],
            "text/plain": [
              "   id  label                                              tweet\n",
              "0   1      0  [father, dysfunctional, selfish, drags, kids, ...\n",
              "1   2      0  [thanks, lyft, credit, cant, use, cause, dont,...\n",
              "2   3      0                                  [bihday, majesty]\n",
              "3   4      0                [model, love, u, take, u, time, ur]\n",
              "4   5      0                  [factsguide, society, motivation]"
            ]
          },
          "metadata": {},
          "execution_count": 146
        }
      ]
    },
    {
      "cell_type": "code",
      "metadata": {
        "id": "PZ3N0GcfxP3V"
      },
      "source": [
        "remove_common_words(test, 'tweet')"
      ],
      "execution_count": 147,
      "outputs": []
    },
    {
      "cell_type": "code",
      "metadata": {
        "id": "qpShUHC7xt1l",
        "colab": {
          "base_uri": "https://localhost:8080/",
          "height": 204
        },
        "outputId": "ed0643e5-4591-4fd7-871d-7f20e9d4fe7c"
      },
      "source": [
        "test.head()"
      ],
      "execution_count": 148,
      "outputs": [
        {
          "output_type": "execute_result",
          "data": {
            "text/html": [
              "<div>\n",
              "<style scoped>\n",
              "    .dataframe tbody tr th:only-of-type {\n",
              "        vertical-align: middle;\n",
              "    }\n",
              "\n",
              "    .dataframe tbody tr th {\n",
              "        vertical-align: top;\n",
              "    }\n",
              "\n",
              "    .dataframe thead th {\n",
              "        text-align: right;\n",
              "    }\n",
              "</style>\n",
              "<table border=\"1\" class=\"dataframe\">\n",
              "  <thead>\n",
              "    <tr style=\"text-align: right;\">\n",
              "      <th></th>\n",
              "      <th>id</th>\n",
              "      <th>tweet</th>\n",
              "    </tr>\n",
              "  </thead>\n",
              "  <tbody>\n",
              "    <tr>\n",
              "      <th>0</th>\n",
              "      <td>31963</td>\n",
              "      <td>[studiolife, aislife, requires, passion, dedic...</td>\n",
              "    </tr>\n",
              "    <tr>\n",
              "      <th>1</th>\n",
              "      <td>31964</td>\n",
              "      <td>[white, supremacists, want, everyone, see, new...</td>\n",
              "    </tr>\n",
              "    <tr>\n",
              "      <th>2</th>\n",
              "      <td>31965</td>\n",
              "      <td>[safe, ways, heal, acne, altwaystoheal, health...</td>\n",
              "    </tr>\n",
              "    <tr>\n",
              "      <th>3</th>\n",
              "      <td>31966</td>\n",
              "      <td>[hp, cursed, child, book, reservations, alread...</td>\n",
              "    </tr>\n",
              "    <tr>\n",
              "      <th>4</th>\n",
              "      <td>31967</td>\n",
              "      <td>[3rd, bihday, amazing, hilarious, nephew, eli,...</td>\n",
              "    </tr>\n",
              "  </tbody>\n",
              "</table>\n",
              "</div>"
            ],
            "text/plain": [
              "      id                                              tweet\n",
              "0  31963  [studiolife, aislife, requires, passion, dedic...\n",
              "1  31964  [white, supremacists, want, everyone, see, new...\n",
              "2  31965  [safe, ways, heal, acne, altwaystoheal, health...\n",
              "3  31966  [hp, cursed, child, book, reservations, alread...\n",
              "4  31967  [3rd, bihday, amazing, hilarious, nephew, eli,..."
            ]
          },
          "metadata": {},
          "execution_count": 148
        }
      ]
    },
    {
      "cell_type": "markdown",
      "metadata": {
        "id": "qgZvr0aYx2BV"
      },
      "source": [
        "#### Remover Variações da Mesma Palavra"
      ]
    },
    {
      "cell_type": "code",
      "metadata": {
        "id": "CNk8RpLxyGdE"
      },
      "source": [
        "## remove_variations = WordNetLemmatizer()"
      ],
      "execution_count": 149,
      "outputs": []
    },
    {
      "cell_type": "code",
      "metadata": {
        "id": "NT3jtGmNyODl"
      },
      "source": [
        "## remove_variations.lemmatize('went', 'v')"
      ],
      "execution_count": 150,
      "outputs": []
    },
    {
      "cell_type": "code",
      "metadata": {
        "id": "i3qr8vhnyu-1"
      },
      "source": [
        "def remove_variations_words(data, col):\n",
        "    remove_variations = WordNetLemmatizer()\n",
        "    for idx, _ in data.iterrows():\n",
        "        data[col].at[idx] = [remove_variations.lemmatize(word,'v') \\\n",
        "                             for word in data[col][idx]]"
      ],
      "execution_count": 151,
      "outputs": []
    },
    {
      "cell_type": "code",
      "metadata": {
        "id": "RmEY5Uy2zTZV"
      },
      "source": [
        "remove_variations_words(train, 'tweet')"
      ],
      "execution_count": 152,
      "outputs": []
    },
    {
      "cell_type": "code",
      "metadata": {
        "id": "IhxfDPghzYPl",
        "colab": {
          "base_uri": "https://localhost:8080/"
        },
        "outputId": "550d5d86-da77-49f5-ca73-2fe1aebeda8f"
      },
      "source": [
        "train['tweet'].tail(10)"
      ],
      "execution_count": 153,
      "outputs": [
        {
          "output_type": "execute_result",
          "data": {
            "text/plain": [
              "31952                                            [go, far]\n",
              "31953    [good, morning, instagram, shower, water, berl...\n",
              "31954    [holiday, bull, dominate, bull, direct, whatev...\n",
              "31955    [less, 2, weeks, ibizabringitonmallorcaholiday...\n",
              "31956    [fish, tomorrow, carnt, wait, first, time, 2, ...\n",
              "31957                                    [eat, isz, youuu]\n",
              "31958    [see, nina, turner, airwaves, try, wrap, mantl...\n",
              "31959    [listen, sad, songs, monday, morning, otw, wor...\n",
              "31960    [sikh, temple, vandalise, calgary, wso, condem...\n",
              "31961                                      [thank, follow]\n",
              "Name: tweet, dtype: object"
            ]
          },
          "metadata": {},
          "execution_count": 153
        }
      ]
    },
    {
      "cell_type": "code",
      "metadata": {
        "id": "Ce1e5PjU1ENW"
      },
      "source": [
        "remove_variations_words(test, 'tweet')"
      ],
      "execution_count": 154,
      "outputs": []
    },
    {
      "cell_type": "code",
      "metadata": {
        "colab": {
          "base_uri": "https://localhost:8080/"
        },
        "id": "is50namn1KBF",
        "outputId": "b90b1380-1328-440b-a9d4-f7f43ace3f2a"
      },
      "source": [
        "test['tweet'].tail(10)"
      ],
      "execution_count": 155,
      "outputs": [
        {
          "output_type": "execute_result",
          "data": {
            "text/plain": [
              "17187    [love, life, createyourfuture, lifestyle, holi...\n",
              "17188    [black, professor, demonize, propose, nazi, st...\n",
              "17189    [learn, think, positive, positive, instagram, ...\n",
              "17190    [love, pretty, happy, fresh, teenilicious, fix...\n",
              "17191    [2damntuffruffmufftechnocityng005web1997ukhxin...\n",
              "17192    [think, factory, leftright, polarisation, trum...\n",
              "17193    [feel, like, mermaid, hairflip, neverready, fo...\n",
              "17194    [hillary, campaign, today, ohioomg, amp, use, ...\n",
              "17195    [happy, work, conference, right, mindset, lead...\n",
              "17196    [song, glad, free, download, shoegaze, newmusi...\n",
              "Name: tweet, dtype: object"
            ]
          },
          "metadata": {},
          "execution_count": 155
        }
      ]
    },
    {
      "cell_type": "markdown",
      "metadata": {
        "id": "9BfSPg3H1NQ1"
      },
      "source": [
        "#### Engenharia de Recursos (feature Engineering)\n",
        "quantidade de palavras por tweet"
      ]
    },
    {
      "cell_type": "code",
      "metadata": {
        "id": "AB3n39ca1me1"
      },
      "source": [
        "train['words'] = train['tweet'].apply(len)"
      ],
      "execution_count": 156,
      "outputs": []
    },
    {
      "cell_type": "code",
      "metadata": {
        "colab": {
          "base_uri": "https://localhost:8080/",
          "height": 204
        },
        "id": "qdYZj8jt1uPo",
        "outputId": "edf6f3ee-a8b5-427d-d47c-a0150ddbf61f"
      },
      "source": [
        "train.head()"
      ],
      "execution_count": 157,
      "outputs": [
        {
          "output_type": "execute_result",
          "data": {
            "text/html": [
              "<div>\n",
              "<style scoped>\n",
              "    .dataframe tbody tr th:only-of-type {\n",
              "        vertical-align: middle;\n",
              "    }\n",
              "\n",
              "    .dataframe tbody tr th {\n",
              "        vertical-align: top;\n",
              "    }\n",
              "\n",
              "    .dataframe thead th {\n",
              "        text-align: right;\n",
              "    }\n",
              "</style>\n",
              "<table border=\"1\" class=\"dataframe\">\n",
              "  <thead>\n",
              "    <tr style=\"text-align: right;\">\n",
              "      <th></th>\n",
              "      <th>id</th>\n",
              "      <th>label</th>\n",
              "      <th>tweet</th>\n",
              "      <th>words</th>\n",
              "    </tr>\n",
              "  </thead>\n",
              "  <tbody>\n",
              "    <tr>\n",
              "      <th>0</th>\n",
              "      <td>1</td>\n",
              "      <td>0</td>\n",
              "      <td>[father, dysfunctional, selfish, drag, kid, dy...</td>\n",
              "      <td>7</td>\n",
              "    </tr>\n",
              "    <tr>\n",
              "      <th>1</th>\n",
              "      <td>2</td>\n",
              "      <td>0</td>\n",
              "      <td>[thank, lyft, credit, cant, use, cause, dont, ...</td>\n",
              "      <td>13</td>\n",
              "    </tr>\n",
              "    <tr>\n",
              "      <th>2</th>\n",
              "      <td>3</td>\n",
              "      <td>0</td>\n",
              "      <td>[bihday, majesty]</td>\n",
              "      <td>2</td>\n",
              "    </tr>\n",
              "    <tr>\n",
              "      <th>3</th>\n",
              "      <td>4</td>\n",
              "      <td>0</td>\n",
              "      <td>[model, love, u, take, u, time, ur]</td>\n",
              "      <td>7</td>\n",
              "    </tr>\n",
              "    <tr>\n",
              "      <th>4</th>\n",
              "      <td>5</td>\n",
              "      <td>0</td>\n",
              "      <td>[factsguide, society, motivation]</td>\n",
              "      <td>3</td>\n",
              "    </tr>\n",
              "  </tbody>\n",
              "</table>\n",
              "</div>"
            ],
            "text/plain": [
              "   id  label                                              tweet  words\n",
              "0   1      0  [father, dysfunctional, selfish, drag, kid, dy...      7\n",
              "1   2      0  [thank, lyft, credit, cant, use, cause, dont, ...     13\n",
              "2   3      0                                  [bihday, majesty]      2\n",
              "3   4      0                [model, love, u, take, u, time, ur]      7\n",
              "4   5      0                  [factsguide, society, motivation]      3"
            ]
          },
          "metadata": {},
          "execution_count": 157
        }
      ]
    },
    {
      "cell_type": "code",
      "metadata": {
        "id": "-CHeFRPP2zqV"
      },
      "source": [
        "test['words'] = test['tweet'].apply(len)"
      ],
      "execution_count": 158,
      "outputs": []
    },
    {
      "cell_type": "code",
      "metadata": {
        "colab": {
          "base_uri": "https://localhost:8080/",
          "height": 204
        },
        "id": "fB0rsioD288V",
        "outputId": "82545252-df46-4d22-d8ba-7377fb48d5fe"
      },
      "source": [
        "test.head()"
      ],
      "execution_count": 159,
      "outputs": [
        {
          "output_type": "execute_result",
          "data": {
            "text/html": [
              "<div>\n",
              "<style scoped>\n",
              "    .dataframe tbody tr th:only-of-type {\n",
              "        vertical-align: middle;\n",
              "    }\n",
              "\n",
              "    .dataframe tbody tr th {\n",
              "        vertical-align: top;\n",
              "    }\n",
              "\n",
              "    .dataframe thead th {\n",
              "        text-align: right;\n",
              "    }\n",
              "</style>\n",
              "<table border=\"1\" class=\"dataframe\">\n",
              "  <thead>\n",
              "    <tr style=\"text-align: right;\">\n",
              "      <th></th>\n",
              "      <th>id</th>\n",
              "      <th>tweet</th>\n",
              "      <th>words</th>\n",
              "    </tr>\n",
              "  </thead>\n",
              "  <tbody>\n",
              "    <tr>\n",
              "      <th>0</th>\n",
              "      <td>31963</td>\n",
              "      <td>[studiolife, aislife, require, passion, dedica...</td>\n",
              "      <td>8</td>\n",
              "    </tr>\n",
              "    <tr>\n",
              "      <th>1</th>\n",
              "      <td>31964</td>\n",
              "      <td>[white, supremacists, want, everyone, see, new...</td>\n",
              "      <td>9</td>\n",
              "    </tr>\n",
              "    <tr>\n",
              "      <th>2</th>\n",
              "      <td>31965</td>\n",
              "      <td>[safe, ways, heal, acne, altwaystoheal, health...</td>\n",
              "      <td>7</td>\n",
              "    </tr>\n",
              "    <tr>\n",
              "      <th>3</th>\n",
              "      <td>31966</td>\n",
              "      <td>[hp, curse, child, book, reservations, already...</td>\n",
              "      <td>10</td>\n",
              "    </tr>\n",
              "    <tr>\n",
              "      <th>4</th>\n",
              "      <td>31967</td>\n",
              "      <td>[3rd, bihday, amaze, hilarious, nephew, eli, a...</td>\n",
              "      <td>11</td>\n",
              "    </tr>\n",
              "  </tbody>\n",
              "</table>\n",
              "</div>"
            ],
            "text/plain": [
              "      id                                              tweet  words\n",
              "0  31963  [studiolife, aislife, require, passion, dedica...      8\n",
              "1  31964  [white, supremacists, want, everyone, see, new...      9\n",
              "2  31965  [safe, ways, heal, acne, altwaystoheal, health...      7\n",
              "3  31966  [hp, curse, child, book, reservations, already...     10\n",
              "4  31967  [3rd, bihday, amaze, hilarious, nephew, eli, a...     11"
            ]
          },
          "metadata": {},
          "execution_count": 159
        }
      ]
    },
    {
      "cell_type": "markdown",
      "metadata": {
        "id": "wErqQKIP2-Tm"
      },
      "source": [
        "#### Análise Exploratória de Dados (AED)\n",
        "Distribuição das quantidade de palavras por 'label'"
      ]
    },
    {
      "cell_type": "code",
      "metadata": {
        "colab": {
          "base_uri": "https://localhost:8080/",
          "height": 301
        },
        "id": "q0KxNrfn3MnW",
        "outputId": "3c581b52-f5c2-4521-b711-2338eecbed63"
      },
      "source": [
        "train.hist(column=['words'], by='label')\n",
        "plt.show()"
      ],
      "execution_count": 160,
      "outputs": [
        {
          "output_type": "display_data",
          "data": {
            "image/png": "[encoded data removed]",
            "text/plain": [
              "<Figure size 432x288 with 2 Axes>"
            ]
          },
          "metadata": {
            "needs_background": "light"
          }
        }
      ]
    },
    {
      "cell_type": "code",
      "metadata": {
        "colab": {
          "base_uri": "https://localhost:8080/",
          "height": 204
        },
        "id": "Ejac02tk25WW",
        "outputId": "269e4686-8980-449f-a9ab-accc1b083fe0"
      },
      "source": [
        "train.head()"
      ],
      "execution_count": 201,
      "outputs": [
        {
          "output_type": "execute_result",
          "data": {
            "text/html": [
              "<div>\n",
              "<style scoped>\n",
              "    .dataframe tbody tr th:only-of-type {\n",
              "        vertical-align: middle;\n",
              "    }\n",
              "\n",
              "    .dataframe tbody tr th {\n",
              "        vertical-align: top;\n",
              "    }\n",
              "\n",
              "    .dataframe thead th {\n",
              "        text-align: right;\n",
              "    }\n",
              "</style>\n",
              "<table border=\"1\" class=\"dataframe\">\n",
              "  <thead>\n",
              "    <tr style=\"text-align: right;\">\n",
              "      <th></th>\n",
              "      <th>id</th>\n",
              "      <th>label</th>\n",
              "      <th>tweet</th>\n",
              "      <th>words</th>\n",
              "    </tr>\n",
              "  </thead>\n",
              "  <tbody>\n",
              "    <tr>\n",
              "      <th>0</th>\n",
              "      <td>1</td>\n",
              "      <td>0</td>\n",
              "      <td>father dysfunctional selfish drag kid dysfunct...</td>\n",
              "      <td>7</td>\n",
              "    </tr>\n",
              "    <tr>\n",
              "      <th>1</th>\n",
              "      <td>2</td>\n",
              "      <td>0</td>\n",
              "      <td>thank lyft credit cant use cause dont offer wh...</td>\n",
              "      <td>13</td>\n",
              "    </tr>\n",
              "    <tr>\n",
              "      <th>2</th>\n",
              "      <td>3</td>\n",
              "      <td>0</td>\n",
              "      <td>bihday majesty</td>\n",
              "      <td>2</td>\n",
              "    </tr>\n",
              "    <tr>\n",
              "      <th>3</th>\n",
              "      <td>4</td>\n",
              "      <td>0</td>\n",
              "      <td>model love u take u time ur</td>\n",
              "      <td>7</td>\n",
              "    </tr>\n",
              "    <tr>\n",
              "      <th>4</th>\n",
              "      <td>5</td>\n",
              "      <td>0</td>\n",
              "      <td>factsguide society motivation</td>\n",
              "      <td>3</td>\n",
              "    </tr>\n",
              "  </tbody>\n",
              "</table>\n",
              "</div>"
            ],
            "text/plain": [
              "   id  label                                              tweet  words\n",
              "0   1      0  father dysfunctional selfish drag kid dysfunct...      7\n",
              "1   2      0  thank lyft credit cant use cause dont offer wh...     13\n",
              "2   3      0                                     bihday majesty      2\n",
              "3   4      0                        model love u take u time ur      7\n",
              "4   5      0                      factsguide society motivation      3"
            ]
          },
          "metadata": {},
          "execution_count": 201
        }
      ]
    },
    {
      "cell_type": "code",
      "metadata": {
        "id": "6perMfey3trp"
      },
      "source": [
        "x = train.loc[train['label']==0]"
      ],
      "execution_count": 210,
      "outputs": []
    },
    {
      "cell_type": "code",
      "metadata": {
        "id": "UKy2s8iu37Y_"
      },
      "source": [
        "y = train.loc[train['label']==1]"
      ],
      "execution_count": 212,
      "outputs": []
    },
    {
      "cell_type": "code",
      "metadata": {
        "colab": {
          "base_uri": "https://localhost:8080/",
          "height": 333
        },
        "id": "4lY8_Ijo3ksF",
        "outputId": "c9a9da19-069a-4430-93f7-1926400de8c5"
      },
      "source": [
        "### Quantidade de Cada Label\n",
        "\n",
        "sns.countplot('label', data=train)\n",
        "plt.show()"
      ],
      "execution_count": 218,
      "outputs": [
        {
          "output_type": "stream",
          "name": "stderr",
          "text": [
            "/usr/local/lib/python3.7/dist-packages/seaborn/_decorators.py:43: FutureWarning: Pass the following variable as a keyword arg: x. From version 0.12, the only valid positional argument will be `data`, and passing other arguments without an explicit keyword will result in an error or misinterpretation.\n",
            "  FutureWarning\n"
          ]
        },
        {
          "output_type": "display_data",
          "data": {
            "image/png": "[encoded data removed]",
            "text/plain": [
              "<Figure size 432x288 with 1 Axes>"
            ]
          },
          "metadata": {
            "needs_background": "light"
          }
        }
      ]
    },
    {
      "cell_type": "markdown",
      "metadata": {
        "id": "7zvTzN9n39lm"
      },
      "source": [
        "#### Palavras Frequêntes \n",
        "#### Averiguar palavras mais frequêntes classificadas como \"racistas ou sexistas\""
      ]
    },
    {
      "cell_type": "code",
      "metadata": {
        "colab": {
          "base_uri": "https://localhost:8080/"
        },
        "id": "V7ZD7Y6w6N6F",
        "outputId": "97d83fea-3fb0-43d7-86e3-165805ff366d"
      },
      "source": [
        "list_of_lists = train.loc[train['label']==1]['tweet'].values\n",
        "list_of_lists"
      ],
      "execution_count": 162,
      "outputs": [
        {
          "output_type": "execute_result",
          "data": {
            "text/plain": [
              "array([list(['cnn', 'call', 'michigan', 'middle', 'school', 'build', 'wall', 'chant', 'tcot']),\n",
              "       list(['comment', 'australia', 'opkillingbay', 'seashepherd', 'helpcovedolphins', 'thecove', 'helpcovedolphins']),\n",
              "       list(['retweet', 'agree']), ...,\n",
              "       list(['dont', 'ball', 'hashtag', 'say', 'weasel', 'away', 'lumpy', 'tony', 'dipshit']),\n",
              "       list(['make', 'ask', 'anybody', 'god', 'oh', 'thank', 'god']),\n",
              "       list(['sikh', 'temple', 'vandalise', 'calgary', 'wso', 'condemn', 'act'])],\n",
              "      dtype=object)"
            ]
          },
          "metadata": {},
          "execution_count": 162
        }
      ]
    },
    {
      "cell_type": "code",
      "metadata": {
        "id": "lz1GiqKv6Ymm"
      },
      "source": [
        "words = [word for list in list_of_lists for word in list]"
      ],
      "execution_count": 163,
      "outputs": []
    },
    {
      "cell_type": "code",
      "metadata": {
        "colab": {
          "base_uri": "https://localhost:8080/"
        },
        "id": "v3ti7NLQ6gq2",
        "outputId": "6e5cb147-adfb-4975-8f6c-605583ee488a"
      },
      "source": [
        "len(words)"
      ],
      "execution_count": 164,
      "outputs": [
        {
          "output_type": "execute_result",
          "data": {
            "text/plain": [
              "18596"
            ]
          },
          "metadata": {},
          "execution_count": 164
        }
      ]
    },
    {
      "cell_type": "code",
      "metadata": {
        "id": "4h_fSVV_6mNp"
      },
      "source": [
        "import collections"
      ],
      "execution_count": 165,
      "outputs": []
    },
    {
      "cell_type": "code",
      "metadata": {
        "id": "C6muoSat6nsl"
      },
      "source": [
        "def generate_freq_words(list):\n",
        "    return collections.Counter(list)"
      ],
      "execution_count": 166,
      "outputs": []
    },
    {
      "cell_type": "code",
      "metadata": {
        "id": "6G4I46kQ6uPF"
      },
      "source": [
        "freq_words = generate_freq_words(words)"
      ],
      "execution_count": 167,
      "outputs": []
    },
    {
      "cell_type": "code",
      "metadata": {
        "colab": {
          "base_uri": "https://localhost:8080/"
        },
        "id": "iJ7z4DwU68A1",
        "outputId": "01ba4f53-c8cd-483e-b57d-577b4f1d4735"
      },
      "source": [
        "len(freq_words)"
      ],
      "execution_count": 168,
      "outputs": [
        {
          "output_type": "execute_result",
          "data": {
            "text/plain": [
              "5285"
            ]
          },
          "metadata": {},
          "execution_count": 168
        }
      ]
    },
    {
      "cell_type": "code",
      "metadata": {
        "id": "qOtj1khY6-vG"
      },
      "source": [
        "list_of_words = []\n",
        "list_of_freq = []\n",
        "for word, freq in freq_words.items():\n",
        "    list_of_words.append(word)\n",
        "    list_of_freq.append(freq)"
      ],
      "execution_count": 169,
      "outputs": []
    },
    {
      "cell_type": "code",
      "metadata": {
        "id": "wOuDqEzx7RIT"
      },
      "source": [
        "data_freq = pd.DataFrame({'word':  list_of_words, 'frequency': list_of_freq})"
      ],
      "execution_count": 170,
      "outputs": []
    },
    {
      "cell_type": "code",
      "metadata": {
        "id": "4qIkjQHe7et2"
      },
      "source": [
        "data_freq.sort_values('frequency', ascending=False, inplace=True)"
      ],
      "execution_count": 171,
      "outputs": []
    },
    {
      "cell_type": "code",
      "metadata": {
        "colab": {
          "base_uri": "https://localhost:8080/"
        },
        "id": "8PxlCDCp7gCG",
        "outputId": "f1c73452-9d35-4e4f-cc49-ffbaf834f5b2"
      },
      "source": [
        "dict(data_freq[:10].values)"
      ],
      "execution_count": 172,
      "outputs": [
        {
          "output_type": "execute_result",
          "data": {
            "text/plain": [
              "{'amp': 283,\n",
              " 'black': 146,\n",
              " 'libtard': 149,\n",
              " 'like': 141,\n",
              " 'people': 95,\n",
              " 'politics': 97,\n",
              " 'racist': 103,\n",
              " 'say': 96,\n",
              " 'trump': 216,\n",
              " 'white': 153}"
            ]
          },
          "metadata": {},
          "execution_count": 172
        }
      ]
    },
    {
      "cell_type": "markdown",
      "metadata": {
        "id": "nyz8MOki7uHF"
      },
      "source": [
        "#### Nuvem de Palavras"
      ]
    },
    {
      "cell_type": "code",
      "metadata": {
        "id": "ALRAs0K07yVl"
      },
      "source": [
        "from wordcloud import WordCloud"
      ],
      "execution_count": 173,
      "outputs": []
    },
    {
      "cell_type": "code",
      "metadata": {
        "id": "rIaJHJ_z71jG"
      },
      "source": [
        "cloud = WordCloud(background_color='white')"
      ],
      "execution_count": 174,
      "outputs": []
    },
    {
      "cell_type": "code",
      "metadata": {
        "colab": {
          "base_uri": "https://localhost:8080/",
          "height": 395
        },
        "id": "F6CUaboI8AB2",
        "outputId": "a8cc0748-3f3b-424f-f7e0-9ee7d2e3e2bf"
      },
      "source": [
        "plt.figure(figsize=(12,6), dpi=80)\n",
        "cloud.generate_from_frequencies(dict(data_freq[:50].values))\n",
        "plt.imshow(cloud)\n",
        "plt.axis('off')\n",
        "plt.show()"
      ],
      "execution_count": 221,
      "outputs": [
        {
          "output_type": "display_data",
          "data": {
            "image/png": "[encoded data removed]",
            "text/plain": [
              "<Figure size 960x480 with 1 Axes>"
            ]
          },
          "metadata": {
            "needs_background": "light"
          }
        }
      ]
    },
    {
      "cell_type": "code",
      "metadata": {
        "id": "Y5-pm1j78vP2"
      },
      "source": [
        "## Retomar para formato texto\n",
        "train['tweet'] = train['tweet'].apply(lambda x: ' '.join(x))"
      ],
      "execution_count": 176,
      "outputs": []
    },
    {
      "cell_type": "code",
      "metadata": {
        "id": "-9wBQ2069Ztl"
      },
      "source": [
        "test['tweet'] = test['tweet'].apply(lambda x: ' '.join(x))"
      ],
      "execution_count": 177,
      "outputs": []
    },
    {
      "cell_type": "code",
      "metadata": {
        "colab": {
          "base_uri": "https://localhost:8080/"
        },
        "id": "1wC1Ty8r-Ca2",
        "outputId": "ae8acc1d-b30f-4c74-bd98-2cfd7f8f9cf2"
      },
      "source": [
        "## Solucionar problema de desequilibrio dos dados\n",
        "train['label'].value_counts()"
      ],
      "execution_count": 178,
      "outputs": [
        {
          "output_type": "execute_result",
          "data": {
            "text/plain": [
              "0    29720\n",
              "1     2242\n",
              "Name: label, dtype: int64"
            ]
          },
          "metadata": {},
          "execution_count": 178
        }
      ]
    },
    {
      "cell_type": "code",
      "metadata": {
        "id": "3I0ysmDV-equ"
      },
      "source": [
        "from sklearn.utils import resample"
      ],
      "execution_count": 179,
      "outputs": []
    },
    {
      "cell_type": "code",
      "metadata": {
        "id": "njN-o0uVqIJ8"
      },
      "source": [
        "## train_minority = train.loc[train['label']==1]"
      ],
      "execution_count": 60,
      "outputs": []
    },
    {
      "cell_type": "code",
      "metadata": {
        "id": "jf7a0JN6qIl2"
      },
      "source": [
        "## train_majority = train.loc[train['label']==0]"
      ],
      "execution_count": 61,
      "outputs": []
    },
    {
      "cell_type": "code",
      "metadata": {
        "id": "NRyhCUZ-sP7W"
      },
      "source": [
        "## função que equilibra os dados tanto do [maior_para_menor] quanto [menor_para_maior]\n",
        "def balanced_data(train, for_more=True):\n",
        "  train_minority = train.loc[train['label']==1]\n",
        "  train_majority = train.loc[train['label']==0]\n",
        "  if for_more:\n",
        "    smaller_to_larger = resample(train_minority, \n",
        "                             replace=True, \n",
        "                             n_samples=len(train_majority), \n",
        "                             random_state=123)\n",
        "    train_balanced = pd.concat([smaller_to_larger, train_majority])\n",
        "  else:\n",
        "    larger_to_smaller = resample(train_majority, \n",
        "                            replace=True, \n",
        "                            n_samples=len(train_minority), \n",
        "                            random_state=123)\n",
        "    train_balanced = pd.concat([larger_to_smaller, train_minority])\n",
        "  return train_balanced"
      ],
      "execution_count": 180,
      "outputs": []
    },
    {
      "cell_type": "code",
      "metadata": {
        "colab": {
          "base_uri": "https://localhost:8080/"
        },
        "id": "UhtK4I3Nt017",
        "outputId": "b55cf493-01d0-4e3f-d783-326c7fbb97eb"
      },
      "source": [
        "len(train_balanced)"
      ],
      "execution_count": 181,
      "outputs": [
        {
          "output_type": "execute_result",
          "data": {
            "text/plain": [
              "4484"
            ]
          },
          "metadata": {},
          "execution_count": 181
        }
      ]
    },
    {
      "cell_type": "code",
      "metadata": {
        "id": "FrBGyMAPt4cG"
      },
      "source": [
        "train_balanced = balanced_data(train, for_more=False)"
      ],
      "execution_count": 182,
      "outputs": []
    },
    {
      "cell_type": "code",
      "metadata": {
        "colab": {
          "base_uri": "https://localhost:8080/"
        },
        "id": "y_fdazp-u2ra",
        "outputId": "468665b7-f965-4cd6-e029-74b4ec8d0cc3"
      },
      "source": [
        "len(train_balanced)"
      ],
      "execution_count": 183,
      "outputs": [
        {
          "output_type": "execute_result",
          "data": {
            "text/plain": [
              "4484"
            ]
          },
          "metadata": {},
          "execution_count": 183
        }
      ]
    },
    {
      "cell_type": "code",
      "metadata": {
        "colab": {
          "base_uri": "https://localhost:8080/"
        },
        "id": "7v0AXBhcvHMW",
        "outputId": "a46948a4-3f9e-402e-a089-88ca97103fa8"
      },
      "source": [
        "train_balanced['label'].value_counts()"
      ],
      "execution_count": 184,
      "outputs": [
        {
          "output_type": "execute_result",
          "data": {
            "text/plain": [
              "1    2242\n",
              "0    2242\n",
              "Name: label, dtype: int64"
            ]
          },
          "metadata": {},
          "execution_count": 184
        }
      ]
    },
    {
      "cell_type": "markdown",
      "metadata": {
        "id": "ow-ul1Oer2vX"
      },
      "source": [
        "#### Treinar Modelo"
      ]
    },
    {
      "cell_type": "code",
      "metadata": {
        "id": "sBJ3R3NYvwyG"
      },
      "source": [
        "from sklearn.model_selection import train_test_split"
      ],
      "execution_count": 185,
      "outputs": []
    },
    {
      "cell_type": "code",
      "metadata": {
        "id": "ykxa4oNFv3JY"
      },
      "source": [
        "X = train_balanced['tweet']\n",
        "y = train_balanced['label']"
      ],
      "execution_count": 186,
      "outputs": []
    },
    {
      "cell_type": "code",
      "metadata": {
        "id": "2fkkKB3gwIdX"
      },
      "source": [
        "X_train, X_test, y_train, y_test = train_test_split(X, y, test_size=0.3, random_state=123)"
      ],
      "execution_count": 187,
      "outputs": []
    },
    {
      "cell_type": "code",
      "metadata": {
        "colab": {
          "base_uri": "https://localhost:8080/"
        },
        "id": "5QGLVqg-wkaH",
        "outputId": "1e24419d-1913-47c8-c9bc-b319f50d98b8"
      },
      "source": [
        "X_train.shape, y_train.shape ## dados para treino"
      ],
      "execution_count": 188,
      "outputs": [
        {
          "output_type": "execute_result",
          "data": {
            "text/plain": [
              "((3138,), (3138,))"
            ]
          },
          "metadata": {},
          "execution_count": 188
        }
      ]
    },
    {
      "cell_type": "code",
      "metadata": {
        "colab": {
          "base_uri": "https://localhost:8080/"
        },
        "id": "wuWPZfjfwp-3",
        "outputId": "6572656d-7a4f-442e-80d0-79fe02ceedbe"
      },
      "source": [
        "X_test.shape, y_test.shape ## dados para avaliar performance"
      ],
      "execution_count": 189,
      "outputs": [
        {
          "output_type": "execute_result",
          "data": {
            "text/plain": [
              "((1346,), (1346,))"
            ]
          },
          "metadata": {},
          "execution_count": 189
        }
      ]
    },
    {
      "cell_type": "code",
      "metadata": {
        "id": "8t_yZH1CwtmW"
      },
      "source": [
        "sgd = Pipeline([\n",
        "    ('countVector', CountVectorizer()),\n",
        "    ('tfidf', TfidfTransformer()),\n",
        "    ('modelo', SGDClassifier())\n",
        "])"
      ],
      "execution_count": 190,
      "outputs": []
    },
    {
      "cell_type": "code",
      "metadata": {
        "colab": {
          "base_uri": "https://localhost:8080/"
        },
        "id": "BdASCtIuxKlH",
        "outputId": "98855f40-6bb2-47a2-bc92-f387790d0e8c"
      },
      "source": [
        "sgd.fit(X_train, y_train)"
      ],
      "execution_count": 191,
      "outputs": [
        {
          "output_type": "execute_result",
          "data": {
            "text/plain": [
              "Pipeline(memory=None,\n",
              "         steps=[('countVector',\n",
              "                 CountVectorizer(analyzer='word', binary=False,\n",
              "                                 decode_error='strict',\n",
              "                                 dtype=<class 'numpy.int64'>, encoding='utf-8',\n",
              "                                 input='content', lowercase=True, max_df=1.0,\n",
              "                                 max_features=None, min_df=1,\n",
              "                                 ngram_range=(1, 1), preprocessor=None,\n",
              "                                 stop_words=None, strip_accents=None,\n",
              "                                 token_pattern='(?u)\\\\b\\\\w\\\\w+\\\\b',\n",
              "                                 tokenizer=None, vocabul...\n",
              "                 SGDClassifier(alpha=0.0001, average=False, class_weight=None,\n",
              "                               early_stopping=False, epsilon=0.1, eta0=0.0,\n",
              "                               fit_intercept=True, l1_ratio=0.15,\n",
              "                               learning_rate='optimal', loss='hinge',\n",
              "                               max_iter=1000, n_iter_no_change=5, n_jobs=None,\n",
              "                               penalty='l2', power_t=0.5, random_state=None,\n",
              "                               shuffle=True, tol=0.001, validation_fraction=0.1,\n",
              "                               verbose=0, warm_start=False))],\n",
              "         verbose=False)"
            ]
          },
          "metadata": {},
          "execution_count": 191
        }
      ]
    },
    {
      "cell_type": "code",
      "metadata": {
        "id": "N1ETfqoTxRfH"
      },
      "source": [
        "sgd_pred = sgd.predict(X_test)"
      ],
      "execution_count": 192,
      "outputs": []
    },
    {
      "cell_type": "code",
      "metadata": {
        "colab": {
          "base_uri": "https://localhost:8080/"
        },
        "id": "5j8TQCQtyJ_I",
        "outputId": "d0d5770c-9de0-4780-9ff9-fea5e977f4c7"
      },
      "source": [
        "sgd_pred"
      ],
      "execution_count": 193,
      "outputs": [
        {
          "output_type": "execute_result",
          "data": {
            "text/plain": [
              "array([0, 0, 0, ..., 0, 0, 1])"
            ]
          },
          "metadata": {},
          "execution_count": 193
        }
      ]
    },
    {
      "cell_type": "markdown",
      "metadata": {
        "id": "WAcXbSNeyM6H"
      },
      "source": [
        "#### Avaliar Performance do Modelo"
      ]
    },
    {
      "cell_type": "code",
      "metadata": {
        "id": "gpDgVytvySyB"
      },
      "source": [
        "from sklearn.metrics import f1_score"
      ],
      "execution_count": 194,
      "outputs": []
    },
    {
      "cell_type": "code",
      "metadata": {
        "id": "uMpqNKHhyXPH"
      },
      "source": [
        "sgd_score = f1_score(y_test, sgd_pred)"
      ],
      "execution_count": 195,
      "outputs": []
    },
    {
      "cell_type": "code",
      "metadata": {
        "colab": {
          "base_uri": "https://localhost:8080/"
        },
        "id": "3J7JipUOyZu3",
        "outputId": "4ccd0e3c-f210-4cd5-bba0-2cba8020d576"
      },
      "source": [
        "sgd_score"
      ],
      "execution_count": 196,
      "outputs": [
        {
          "output_type": "execute_result",
          "data": {
            "text/plain": [
              "0.8436308161708619"
            ]
          },
          "metadata": {},
          "execution_count": 196
        }
      ]
    },
    {
      "cell_type": "code",
      "metadata": {
        "colab": {
          "base_uri": "https://localhost:8080/"
        },
        "id": "dPHarhbkycWJ",
        "outputId": "9ad9b1ca-bbce-4409-c486-c3c9d431c618"
      },
      "source": [
        "y_pred = sgd.predict(test['tweet'])\n",
        "y_pred"
      ],
      "execution_count": 197,
      "outputs": [
        {
          "output_type": "execute_result",
          "data": {
            "text/plain": [
              "array([0, 1, 0, ..., 1, 0, 1])"
            ]
          },
          "metadata": {},
          "execution_count": 197
        }
      ]
    },
    {
      "cell_type": "code",
      "metadata": {
        "id": "V66LKIVtysj3"
      },
      "source": [
        "submission = pd.DataFrame({'id': test['id'], 'label': y_pred})"
      ],
      "execution_count": 198,
      "outputs": []
    },
    {
      "cell_type": "code",
      "metadata": {
        "colab": {
          "base_uri": "https://localhost:8080/",
          "height": 419
        },
        "id": "68qYkvt30fpX",
        "outputId": "fa642873-b2c8-4ce9-f54a-a5c7bb1195cd"
      },
      "source": [
        "submission"
      ],
      "execution_count": 199,
      "outputs": [
        {
          "output_type": "execute_result",
          "data": {
            "text/html": [
              "<div>\n",
              "<style scoped>\n",
              "    .dataframe tbody tr th:only-of-type {\n",
              "        vertical-align: middle;\n",
              "    }\n",
              "\n",
              "    .dataframe tbody tr th {\n",
              "        vertical-align: top;\n",
              "    }\n",
              "\n",
              "    .dataframe thead th {\n",
              "        text-align: right;\n",
              "    }\n",
              "</style>\n",
              "<table border=\"1\" class=\"dataframe\">\n",
              "  <thead>\n",
              "    <tr style=\"text-align: right;\">\n",
              "      <th></th>\n",
              "      <th>id</th>\n",
              "      <th>label</th>\n",
              "    </tr>\n",
              "  </thead>\n",
              "  <tbody>\n",
              "    <tr>\n",
              "      <th>0</th>\n",
              "      <td>31963</td>\n",
              "      <td>0</td>\n",
              "    </tr>\n",
              "    <tr>\n",
              "      <th>1</th>\n",
              "      <td>31964</td>\n",
              "      <td>1</td>\n",
              "    </tr>\n",
              "    <tr>\n",
              "      <th>2</th>\n",
              "      <td>31965</td>\n",
              "      <td>0</td>\n",
              "    </tr>\n",
              "    <tr>\n",
              "      <th>3</th>\n",
              "      <td>31966</td>\n",
              "      <td>0</td>\n",
              "    </tr>\n",
              "    <tr>\n",
              "      <th>4</th>\n",
              "      <td>31967</td>\n",
              "      <td>0</td>\n",
              "    </tr>\n",
              "    <tr>\n",
              "      <th>...</th>\n",
              "      <td>...</td>\n",
              "      <td>...</td>\n",
              "    </tr>\n",
              "    <tr>\n",
              "      <th>17192</th>\n",
              "      <td>49155</td>\n",
              "      <td>1</td>\n",
              "    </tr>\n",
              "    <tr>\n",
              "      <th>17193</th>\n",
              "      <td>49156</td>\n",
              "      <td>0</td>\n",
              "    </tr>\n",
              "    <tr>\n",
              "      <th>17194</th>\n",
              "      <td>49157</td>\n",
              "      <td>1</td>\n",
              "    </tr>\n",
              "    <tr>\n",
              "      <th>17195</th>\n",
              "      <td>49158</td>\n",
              "      <td>0</td>\n",
              "    </tr>\n",
              "    <tr>\n",
              "      <th>17196</th>\n",
              "      <td>49159</td>\n",
              "      <td>1</td>\n",
              "    </tr>\n",
              "  </tbody>\n",
              "</table>\n",
              "<p>17197 rows × 2 columns</p>\n",
              "</div>"
            ],
            "text/plain": [
              "          id  label\n",
              "0      31963      0\n",
              "1      31964      1\n",
              "2      31965      0\n",
              "3      31966      0\n",
              "4      31967      0\n",
              "...      ...    ...\n",
              "17192  49155      1\n",
              "17193  49156      0\n",
              "17194  49157      1\n",
              "17195  49158      0\n",
              "17196  49159      1\n",
              "\n",
              "[17197 rows x 2 columns]"
            ]
          },
          "metadata": {},
          "execution_count": 199
        }
      ]
    },
    {
      "cell_type": "code",
      "metadata": {
        "id": "3Lc6f9vO0gm3"
      },
      "source": [
        ""
      ],
      "execution_count": null,
      "outputs": []
    }
  ]
}